{
  "cells": [
    {
      "cell_type": "code",
      "source": [
        "# Install missing libraries if needed\n",
        "!pip install -q scikit-learn pandas\n",
        "\n",
        "# Import required libraries\n",
        "import pandas as pd\n",
        "from sklearn.model_selection import train_test_split\n",
        "from google.colab import files\n",
        "\n",
        "# Step 1: Upload your CSV file\n",
        "print(\"Upload electronics_reviews.csv\")\n",
        "uploaded = files.upload()  # Make sure to upload the extracted CSV, not the ZIP\n",
        "\n",
        "# Step 2: Load dataset\n",
        "df = pd.read_csv(\"electronics_reviews.csv\")\n",
        "\n",
        "# Step 3: Clean and normalize sentiment column\n",
        "df['sentiment'] = df['sentiment'].str.lower().str.strip()\n",
        "\n",
        "# Step 4: Keep only 'positive' and 'negative' sentiments\n",
        "df = df[df['sentiment'].isin(['positive', 'negative'])]\n",
        "\n",
        "# Step 5: Encode sentiment labels (positive → 1, negative → 0)\n",
        "df['label'] = df['sentiment'].map({'positive': 1, 'negative': 0})\n",
        "\n",
        "# Step 6: View label distribution\n",
        "print(\"\\nLabel Distribution:\")\n",
        "print(df['label'].value_counts())\n",
        "\n",
        "# Step 7: Split dataset\n",
        "train_df, temp_df = train_test_split(df, test_size=0.2, stratify=df['label'], random_state=42)\n",
        "val_df, test_df = train_test_split(temp_df, test_size=0.5, stratify=temp_df['label'], random_state=42)\n",
        "\n",
        "# Step 8: Print split sizes\n",
        "print(f\"\\nTrain: {len(train_df)} | Validation: {len(val_df)} | Test: {len(test_df)}\")\n",
        "\n",
        "# Step 9: Save to CSV\n",
        "train_df.to_csv(\"train.csv\", index=False)\n",
        "val_df.to_csv(\"val.csv\", index=False)\n",
        "test_df.to_csv(\"test.csv\", index=False)\n",
        "\n",
        "# Step 10: Download the generated CSVs (optional)\n",
        "files.download(\"train.csv\")\n",
        "files.download(\"val.csv\")\n",
        "files.download(\"test.csv\")\n"
      ],
      "metadata": {
        "id": "5xF7VFeNjkvM"
      },
      "execution_count": null,
      "outputs": []
    }
  ],
  "metadata": {
    "colab": {
      "toc_visible": true,
      "provenance": []
    },
    "kernelspec": {
      "display_name": "Python 3",
      "name": "python3"
    }
  },
  "nbformat": 4,
  "nbformat_minor": 0
}