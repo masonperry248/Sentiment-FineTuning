{
  "cells": [
    {
      "cell_type": "code",
      "source": [
        "# Install transformers if not already installed\n",
        "!pip install -q transformers\n",
        "\n",
        "# Import libraries\n",
        "from transformers import pipeline\n",
        "import pandas as pd\n",
        "from tqdm import tqdm\n",
        "\n",
        "# Load test data\n",
        "test_df = pd.read_csv(\"test.csv\")\n",
        "\n",
        "# Initialize zero-shot classification pipeline\n",
        "classifier = pipeline(\"zero-shot-classification\", model=\"facebook/bart-large-mnli\")\n",
        "\n",
        "# Define the candidate sentiment labels\n",
        "candidate_labels = [\"positive\", \"negative\"]\n",
        "\n",
        "# Run zero-shot classification on each review in the test set\n",
        "predictions = []\n",
        "true_labels = []\n",
        "\n",
        "print(\"Running zero-shot sentiment classification...\")\n",
        "\n",
        "for _, row in tqdm(test_df.iterrows(), total=len(test_df)):\n",
        "    review_text = row['review_text']\n",
        "    true_label = row['label']  # 1 for positive, 0 for negative\n",
        "\n",
        "    result = classifier(review_text, candidate_labels)\n",
        "    predicted_label = result['labels'][0]  # Highest confidence label\n",
        "\n",
        "    # Convert string label back to binary\n",
        "    predicted_binary = 1 if predicted_label == 'positive' else 0\n",
        "\n",
        "    predictions.append(predicted_binary)\n",
        "    true_labels.append(true_label)\n",
        "\n",
        "# Evaluate accuracy\n",
        "from sklearn.metrics import accuracy_score, classification_report\n",
        "\n",
        "accuracy = accuracy_score(true_labels, predictions)\n",
        "report = classification_report(true_labels, predictions, target_names=[\"Negative\", \"Positive\"])\n",
        "\n",
        "print(f\"\\n📊 Zero-Shot Sentiment Classification Accuracy: {accuracy:.4f}\")\n",
        "print(\"\\nClassification Report:\")\n",
        "print(report)\n"
      ],
      "metadata": {
        "id": "5xF7VFeNjkvM"
      },
      "execution_count": null,
      "outputs": []
    }
  ],
  "metadata": {
    "colab": {
      "toc_visible": true,
      "provenance": []
    },
    "kernelspec": {
      "display_name": "Python 3",
      "name": "python3"
    }
  },
  "nbformat": 4,
  "nbformat_minor": 0
}