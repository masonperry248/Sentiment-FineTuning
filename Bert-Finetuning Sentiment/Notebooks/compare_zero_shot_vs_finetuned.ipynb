{
  "cells": [
    {
      "cell_type": "code",
      "source": [
        "from sklearn.metrics import classification_report, accuracy_score\n",
        "import pandas as pd\n",
        "import matplotlib.pyplot as plt\n",
        "\n",
        "# Step 1: Classification Reports\n",
        "print(\"Zero‑Shot Accuracy:\", accuracy_score(true_labels_zs, pred_labels_zs))\n",
        "print(\"\\nZero‑Shot Classification Report:\")\n",
        "report_zs = classification_report(true_labels_zs, pred_labels_zs, target_names=le.classes_.astype(str), output_dict=True)\n",
        "print(classification_report(true_labels_zs, pred_labels_zs, target_names=le.classes_.astype(str)))\n",
        "\n",
        "print(\"\\nFine‑Tuned Accuracy:\", accuracy_score(true_labels_zs, pred_labels_ft))\n",
        "print(\"\\nFine‑Tuned Classification Report:\")\n",
        "report_ft = classification_report(true_labels_zs, pred_labels_ft, target_names=le.classes_.astype(str), output_dict=True)\n",
        "print(classification_report(true_labels_zs, pred_labels_ft, target_names=le.classes_.astype(str)))\n",
        "\n",
        "# Step 2: F1-Score Comparison Table\n",
        "comparison = pd.DataFrame({\n",
        "    \"Zero-Shot F1\": {label: report_zs[label][\"f1-score\"] for label in le.classes_},\n",
        "    \"Fine-Tuned F1\": {label: report_ft[label][\"f1-score\"] for label in le.classes_},\n",
        "})\n",
        "comparison[\"Difference\"] = comparison[\"Fine-Tuned F1\"] - comparison[\"Zero-Shot F1\"]\n",
        "\n",
        "print(\"\\n🔍 F1-Score Comparison:\")\n",
        "print(comparison)\n",
        "\n",
        "# Optional: Accuracy Bar Chart\n",
        "comparison[[\"Zero-Shot F1\", \"Fine-Tuned F1\"]].plot(kind='bar', figsize=(10, 6), title='F1 Score Comparison: Zero-Shot vs Fine-Tuned')\n",
        "plt.ylabel('F1 Score')\n",
        "plt.xticks(rotation=0)\n",
        "plt.grid(axis='y')\n",
        "plt.tight_layout()\n",
        "plt.show()\n"
      ],
      "metadata": {
        "id": "5xF7VFeNjkvM"
      },
      "execution_count": null,
      "outputs": []
    }
  ],
  "metadata": {
    "colab": {
      "toc_visible": true,
      "provenance": []
    },
    "kernelspec": {
      "display_name": "Python 3",
      "name": "python3"
    }
  },
  "nbformat": 4,
  "nbformat_minor": 0
}